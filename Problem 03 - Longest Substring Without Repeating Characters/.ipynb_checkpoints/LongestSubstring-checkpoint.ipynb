{
 "cells": [
  {
   "cell_type": "code",
   "execution_count": 32,
   "metadata": {
    "collapsed": true
   },
   "outputs": [],
   "source": [
    "## Given a string, find the length of longest substring without repeating characters. \n",
    "\n",
    "class Solution(object):\n",
    "    \n",
    "    def lengthOfLongestSubstring(self, s):\n",
    "        \"\"\"\n",
    "        :type s: str\n",
    "        :rtype: int\n",
    "        \"\"\"\n",
    "        if not s: # If the string is empty\n",
    "            return 0 # return 0\n",
    "        \n",
    "        length = 1  # Set the longest length initial value as 0 \n",
    "        for i in range(len(s)): # Select the first letter of the substring\n",
    "            array = []         # Create an empty array to hold each new substring\n",
    "            array.append(s[i]) # Append the first letter in the string\n",
    "    \n",
    "        for j in range(1,len(s)): # Append other letters in the substring\n",
    "        \n",
    "            if s[j] not in array: # If this letter does not repeat \n",
    "            \n",
    "                array.append(s[j]) # Append it to the substring\n",
    "            else:\n",
    "                \n",
    "                break\n",
    "                \n",
    "            if len(array) > length: # Otherwise, this non-repeating substring ends, if its length bigger than current record\n",
    "            \n",
    "                length = len(array) # Update the longest length record\n",
    "                \n",
    "        return length # Return the longest length \n",
    "        "
   ]
  },
  {
   "cell_type": "code",
   "execution_count": 34,
   "metadata": {
    "collapsed": false
   },
   "outputs": [
    {
     "name": "stdout",
     "output_type": "stream",
     "text": [
      "4\n",
      "2\n"
     ]
    }
   ],
   "source": [
    "string = 'aoao'\n",
    "\n",
    "if not string:\n",
    "    \n",
    "    print(\"empty string\")\n",
    "s = list(string)\n",
    "print(len(s))\n",
    "length = 1\n",
    "\n",
    "for i in range(len(s)):\n",
    "    array = []\n",
    "    array.append(s[i])\n",
    "\n",
    "    \n",
    "    for j in range(1,len(s)):\n",
    "        \n",
    "        if s[j] not in array:\n",
    "            \n",
    "            array.append(s[j])\n",
    "        \n",
    "        if len(array) > length:\n",
    "            \n",
    "            length = len(array)\n",
    "\n",
    "            \n",
    "print (length)\n",
    "            \n",
    "            "
   ]
  },
  {
   "cell_type": "code",
   "execution_count": null,
   "metadata": {
    "collapsed": true
   },
   "outputs": [],
   "source": []
  }
 ],
 "metadata": {
  "kernelspec": {
   "display_name": "Python 3",
   "language": "python",
   "name": "python3"
  },
  "language_info": {
   "codemirror_mode": {
    "name": "ipython",
    "version": 3
   },
   "file_extension": ".py",
   "mimetype": "text/x-python",
   "name": "python",
   "nbconvert_exporter": "python",
   "pygments_lexer": "ipython3",
   "version": "3.4.3"
  }
 },
 "nbformat": 4,
 "nbformat_minor": 0
}
