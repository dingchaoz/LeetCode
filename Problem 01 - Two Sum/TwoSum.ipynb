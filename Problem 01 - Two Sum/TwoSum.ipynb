{
 "cells": [
  {
   "cell_type": "code",
   "execution_count": 29,
   "metadata": {
    "collapsed": false
   },
   "outputs": [
    {
     "name": "stdout",
     "output_type": "stream",
     "text": [
      "Input arrays are [ 1  2  3  5  7  9 11 14 18 19]\n",
      "Target number is 15\n",
      "Index1 is 1 Index2 is 8\n"
     ]
    }
   ],
   "source": [
    "## Given an array, fund two numbers such that they added up to a specific target number.\n",
    "## The function twoSum should return indices of the two numbers such that they add up to the target, where index1 must\n",
    "## be less than index 3. Please note that your returned answers are not zero-based.\n",
    "## You may assume that each input would have exactly one solution\n",
    "## Input: numbers = {2,7,11,15}, target = 9\n",
    "## Output: index1 =1, index2 = 2\n",
    "\n",
    "import random\n",
    "import numpy as np\n",
    "\n",
    "random.seed(123) # Choose seed 123\n",
    "\n",
    "# random.sample(range(low,high),size), size must be smaller than high - low\n",
    "# Generate unique random integers\n",
    "numbers = np.sort(random.sample(range(1,20),10)) \n",
    "\n",
    "print (\"Input arrays are \" + str(numbers))\n",
    "\n",
    "target = random.randint(10,20)\n",
    "\n",
    "print (\"Target number is \"+ str(target))\n",
    "\n",
    "#numbers = np.sort(numbers) # Sort input array\n",
    "\n",
    "if target > (numbers[len(numbers)-1] + numbers[len(numbers)-2]):\n",
    "    \n",
    "    print(\"No two numbers sum up equal to target\")\n",
    "    \n",
    "else:\n",
    "    \n",
    "    for i in range(len(numbers)): # range starts from 0 to the (length of arrays - 1)\n",
    "        \n",
    "        for j in range(1,len(numbers)):\n",
    "            \n",
    "            if numbers[i] + numbers[j] == target:\n",
    "                \n",
    "                print (\"Index1 is \" + str(i+1) + \" Index2 is \"+ str(j+1))\n",
    "                \n",
    "        \n",
    "        \n",
    "    \n",
    "    \n",
    "    \n",
    " "
   ]
  },
  {
   "cell_type": "code",
   "execution_count": null,
   "metadata": {
    "collapsed": true
   },
   "outputs": [],
   "source": []
  },
  {
   "cell_type": "code",
   "execution_count": null,
   "metadata": {
    "collapsed": true
   },
   "outputs": [],
   "source": []
  },
  {
   "cell_type": "code",
   "execution_count": null,
   "metadata": {
    "collapsed": true
   },
   "outputs": [],
   "source": []
  }
 ],
 "metadata": {
  "kernelspec": {
   "display_name": "Python 3",
   "language": "python",
   "name": "python3"
  },
  "language_info": {
   "codemirror_mode": {
    "name": "ipython",
    "version": 3
   },
   "file_extension": ".py",
   "mimetype": "text/x-python",
   "name": "python",
   "nbconvert_exporter": "python",
   "pygments_lexer": "ipython3",
   "version": "3.4.3"
  }
 },
 "nbformat": 4,
 "nbformat_minor": 0
}
